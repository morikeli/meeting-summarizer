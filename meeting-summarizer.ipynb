{
 "cells": [
  {
   "cell_type": "markdown",
   "id": "2ace3f04-8c41-4d2f-9825-417c9d6c4877",
   "metadata": {},
   "source": [
    "# AI agent to summarize meetings"
   ]
  },
  {
   "cell_type": "code",
   "execution_count": 14,
   "id": "312d9ea0-8822-4a03-9b80-f64fb2cac1c4",
   "metadata": {},
   "outputs": [],
   "source": [
    "from pathlib import Path\n",
    "\n",
    "from dotenv import load_dotenv\n",
    "from groq import Groq\n",
    "from moviepy.video.io.VideoFileClip import VideoFileClip\n",
    "\n",
    "import json\n",
    "import os"
   ]
  },
  {
   "cell_type": "code",
   "execution_count": 12,
   "id": "1d893a8a-3efd-4d6e-952d-15c30acc3dbd",
   "metadata": {},
   "outputs": [],
   "source": [
    "# load environment variables\n",
    "load_dotenv()\n",
    "\n",
    "# scan base dir\n",
    "def get_base_dir():\n",
    "    \"\"\"\n",
    "    Check if the current file is a Python script or a jupyter notebook.\n",
    "    \"\"\"\n",
    "    try:\n",
    "        # This will fail in Jupyter because __file__ is not defined\n",
    "        return Path(__file__).resolve().parent.parent\n",
    "    except NameError:\n",
    "        # Fallback for Jupyter or interactive shells\n",
    "        return Path.cwd()"
   ]
  },
  {
   "cell_type": "code",
   "execution_count": 19,
   "id": "dfee2dbb-c742-4e81-8b84-5c5389b323cc",
   "metadata": {},
   "outputs": [],
   "source": [
    "# path for video files\n",
    "BASE_DIR = get_base_dir()\n",
    "\n",
    "# if videos dir does not exist, create it\n",
    "VIDEOS_DIR = BASE_DIR / \"videos\"\n",
    "VIDEOS_DIR.mkdir(parents=True, exist_ok=True)\n",
    "\n",
    "# save converted video files to audio files and save it in the \"output\" dir\n",
    "OUTPUT_DIR = VIDEOS_DIR / \"output\"\n",
    "OUTPUT_DIR.mkdir(parents=True, exist_ok=True)\n",
    "\n",
    "video_file = VIDEOS_DIR / \"video2.mp4\"\n",
    "\n",
    "# add \"audio\" in the file name before the file extension\n",
    "audio_filename = f\"{video_file.stem}-audio.mp3\"\n",
    "audio_path = OUTPUT_DIR / audio_filename"
   ]
  },
  {
   "cell_type": "code",
   "execution_count": 10,
   "id": "aa0537e6-2b02-40d5-a31a-d9ec428638d0",
   "metadata": {
    "scrolled": true
   },
   "outputs": [
    {
     "name": "stdout",
     "output_type": "stream",
     "text": [
      "MoviePy - Writing audio in /home/brocode/Documents/Coding/machine-learning/meeting-summarizer/videos/output/video1-audio.mp3\n"
     ]
    },
    {
     "name": "stderr",
     "output_type": "stream",
     "text": [
      "                                                                                "
     ]
    },
    {
     "name": "stdout",
     "output_type": "stream",
     "text": [
      "MoviePy - Done.\n",
      "Audio extracted at: /home/brocode/Documents/Coding/machine-learning/meeting-summarizer/videos/output/video1-audio.mp3\n"
     ]
    },
    {
     "name": "stderr",
     "output_type": "stream",
     "text": []
    }
   ],
   "source": [
    "# load and convert video files\n",
    "clip = VideoFileClip(video_file)\n",
    "clip.audio.write_audiofile(audio_path)\n",
    "\n",
    "# print path the audio file is saved\n",
    "print(f\"Audio extracted at: {audio_path}\")"
   ]
  },
  {
   "cell_type": "code",
   "execution_count": 21,
   "id": "f796077d-a5c0-4239-b8a3-fffbe1d737ec",
   "metadata": {},
   "outputs": [
    {
     "name": "stdout",
     "output_type": "stream",
     "text": [
      " How to anoint and pray over your home. Pray aloud in every room, anointing every doorway and window, asking the Holy Spirit to rest, rule, and reside in your home. Pray that God blesses your home, everyone who lives there, and everyone who walks through the door. Pray that your home is covered under the blood of Jesus from all powers of darkness, encamping angels around it, and putting a shield of protection from any hurt, harm, or danger. I pray that this home will be a place of rest, peace, joy, and strength. And lastly, say, Lord, I consecrate and dedicate this home to you, believing and receiving that your will will be done here.\n"
     ]
    }
   ],
   "source": [
    "GROQ_API_KEY = os.getenv(\"GROQ_API_KEY\")\n",
    "\n",
    "# init groq client\n",
    "groq_model = Groq()\n",
    "\n",
    "\n",
    "with open(audio_path, 'rb') as audio_file:\n",
    "    transcription = groq_model.audio.transcriptions.create(\n",
    "        file=audio_file,\n",
    "        model='whisper-large-v3-turbo',\n",
    "        response_format='verbose_json',\n",
    "        timestamp_granularities=['word', 'segment'],\n",
    "        language='en',\n",
    "        temperature=0.0,\n",
    "    )\n",
    "\n",
    "# transcripted text\n",
    "print(transcription.text)"
   ]
  },
  {
   "cell_type": "code",
   "execution_count": null,
   "id": "fa11688c-426d-41e2-929d-d7f02098b021",
   "metadata": {},
   "outputs": [],
   "source": []
  }
 ],
 "metadata": {
  "kernelspec": {
   "display_name": "Python 3 (ipykernel)",
   "language": "python",
   "name": "python3"
  },
  "language_info": {
   "codemirror_mode": {
    "name": "ipython",
    "version": 3
   },
   "file_extension": ".py",
   "mimetype": "text/x-python",
   "name": "python",
   "nbconvert_exporter": "python",
   "pygments_lexer": "ipython3",
   "version": "3.12.3"
  }
 },
 "nbformat": 4,
 "nbformat_minor": 5
}
